{
 "cells": [
  {
   "cell_type": "markdown",
   "metadata": {},
   "source": [
    "# Continuous Control\n",
    "\n",
    "---\n",
    "\n",
    "You are welcome to use this coding environment to train your agent for the project.  Follow the instructions below to get started!\n",
    "\n",
    "### 1. Start the Environment\n",
    "\n",
    "Run the next code cell to install a few packages.  This line will take a few minutes to run!"
   ]
  },
  {
   "cell_type": "code",
   "execution_count": 1,
   "metadata": {},
   "outputs": [
    {
     "name": "stdout",
     "output_type": "stream",
     "text": [
      "  % Total    % Received % Xferd  Average Speed   Time    Time     Time  Current\n",
      "                                 Dload  Upload   Total   Spent    Left  Speed\n",
      "100  1554  100  1554    0     0   2675      0 --:--:-- --:--:-- --:--:--  2765\n"
     ]
    }
   ],
   "source": [
    "! curl -O https://raw.githubusercontent.com/udacity/workspaces-student-support/master/jupyter/workspace_utils.py"
   ]
  },
  {
   "cell_type": "code",
   "execution_count": 3,
   "metadata": {},
   "outputs": [
    {
     "name": "stdout",
     "output_type": "stream",
     "text": [
      "\u001b[31mtensorflow 1.7.1 has requirement numpy>=1.13.3, but you'll have numpy 1.12.1 which is incompatible.\u001b[0m\r\n",
      "\u001b[31mipython 6.5.0 has requirement prompt-toolkit<2.0.0,>=1.0.15, but you'll have prompt-toolkit 2.0.10 which is incompatible.\u001b[0m\r\n"
     ]
    }
   ],
   "source": [
    "!pip -q install ./python"
   ]
  },
  {
   "cell_type": "code",
   "execution_count": 4,
   "metadata": {},
   "outputs": [],
   "source": [
    "from ddpg_agent import Agent\n",
    "from collections import deque\n",
    "from workspace_utils import active_session\n",
    "import matplotlib.pyplot as plt\n",
    "import numpy as np\n",
    "import random\n",
    "import time\n",
    "import torch\n",
    "from unityagents import UnityEnvironment\n",
    "\n",
    "%matplotlib inline"
   ]
  },
  {
   "cell_type": "markdown",
   "metadata": {},
   "source": [
    "The environments corresponding to both versions of the environment are already saved in the Workspace and can be accessed at the file paths provided below.  \n",
    "\n",
    "Please select one of the two options below for loading the environment."
   ]
  },
  {
   "cell_type": "code",
   "execution_count": 5,
   "metadata": {},
   "outputs": [
    {
     "name": "stderr",
     "output_type": "stream",
     "text": [
      "INFO:unityagents:\n",
      "'Academy' started successfully!\n",
      "Unity Academy name: Academy\n",
      "        Number of Brains: 1\n",
      "        Number of External Brains : 1\n",
      "        Lesson number : 0\n",
      "        Reset Parameters :\n",
      "\t\tgoal_size -> 5.0\n",
      "\t\tgoal_speed -> 1.0\n",
      "Unity brain name: ReacherBrain\n",
      "        Number of Visual Observations (per agent): 0\n",
      "        Vector Observation space type: continuous\n",
      "        Vector Observation space size (per agent): 33\n",
      "        Number of stacked Vector Observation: 1\n",
      "        Vector Action space type: continuous\n",
      "        Vector Action space size (per agent): 4\n",
      "        Vector Action descriptions: , , , \n"
     ]
    }
   ],
   "source": [
    "from unityagents import UnityEnvironment\n",
    "import numpy as np\n",
    "\n",
    "# select this option to load version 1 (with a single agent) of the environment\n",
    "#env = UnityEnvironment(file_name='/data/Reacher_One_Linux_NoVis/Reacher_One_Linux_NoVis.x86_64')\n",
    "\n",
    "# select this option to load version 2 (with 20 agents) of the environment\n",
    "env = UnityEnvironment(file_name='/data/Reacher_Linux_NoVis/Reacher.x86_64')"
   ]
  },
  {
   "cell_type": "markdown",
   "metadata": {},
   "source": [
    "Environments contain **_brains_** which are responsible for deciding the actions of their associated agents. Here we check for the first brain available, and set it as the default brain we will be controlling from Python."
   ]
  },
  {
   "cell_type": "code",
   "execution_count": 6,
   "metadata": {},
   "outputs": [],
   "source": [
    "# get the default brain\n",
    "brain_name = env.brain_names[0]\n",
    "brain = env.brains[brain_name]"
   ]
  },
  {
   "cell_type": "markdown",
   "metadata": {},
   "source": [
    "### 2. Examine the State and Action Spaces\n",
    "\n",
    "Run the code cell below to print some information about the environment."
   ]
  },
  {
   "cell_type": "code",
   "execution_count": 7,
   "metadata": {},
   "outputs": [
    {
     "name": "stdout",
     "output_type": "stream",
     "text": [
      "Number of agents: 20\n",
      "Size of each action: 4\n",
      "There are 20 agents. Each observes a state with length: 33\n"
     ]
    }
   ],
   "source": [
    "# reset the environment\n",
    "env_info = env.reset(train_mode=True)[brain_name]\n",
    "\n",
    "# number of agents\n",
    "num_agents = len(env_info.agents)\n",
    "print('Number of agents:', num_agents)\n",
    "\n",
    "# size of each action\n",
    "action_size = brain.vector_action_space_size\n",
    "print('Size of each action:', action_size)\n",
    "\n",
    "# examine the state space \n",
    "states = env_info.vector_observations\n",
    "state_size = states.shape[1]\n",
    "print('There are {} agents. Each observes a state with length: {}'.format(states.shape[0], state_size))\n",
    "#print('The state for the first agent looks like:', states[0])"
   ]
  },
  {
   "cell_type": "markdown",
   "metadata": {},
   "source": [
    "### 3. Take Random Actions in the Environment\n",
    "\n",
    "In the next code cell, you will learn how to use the Python API to control the agent and receive feedback from the environment.\n",
    "\n",
    "Note that **in this coding environment, you will not be able to watch the agents while they are training**, and you should set `train_mode=True` to restart the environment."
   ]
  },
  {
   "cell_type": "code",
   "execution_count": 8,
   "metadata": {},
   "outputs": [
    {
     "name": "stdout",
     "output_type": "stream",
     "text": [
      "Total score (averaged over agents) this episode: 0.13349999701604248\n"
     ]
    }
   ],
   "source": [
    "env_info = env.reset(train_mode=True)[brain_name]      # reset the environment    \n",
    "states = env_info.vector_observations                  # get the current state (for each agent)\n",
    "scores = np.zeros(num_agents)                          # initialize the score (for each agent)\n",
    "while True:\n",
    "    actions = np.random.randn(num_agents, action_size) # select an action (for each agent)\n",
    "    actions = np.clip(actions, -1, 1)                  # all actions between -1 and 1\n",
    "    env_info = env.step(actions)[brain_name]           # send all actions to tne environment\n",
    "    next_states = env_info.vector_observations         # get next state (for each agent)\n",
    "    rewards = env_info.rewards                         # get reward (for each agent)\n",
    "    dones = env_info.local_done                        # see if episode finished\n",
    "    scores += env_info.rewards                         # update the score (for each agent)\n",
    "    states = next_states                               # roll over states to next time step\n",
    "    if np.any(dones):                                  # exit loop if episode finished\n",
    "        break\n",
    "print('Total score (averaged over agents) this episode: {}'.format(np.mean(scores)))"
   ]
  },
  {
   "cell_type": "markdown",
   "metadata": {},
   "source": [
    "When finished, you can close the environment."
   ]
  },
  {
   "cell_type": "code",
   "execution_count": null,
   "metadata": {},
   "outputs": [],
   "source": []
  },
  {
   "cell_type": "markdown",
   "metadata": {},
   "source": [
    "### 4. It's Your Turn!\n",
    "\n",
    "Now it's your turn to train your own agent to solve the environment!  A few **important notes**:\n",
    "- When training the environment, set `train_mode=True`, so that the line for resetting the environment looks like the following:\n",
    "```python\n",
    "env_info = env.reset(train_mode=True)[brain_name]\n",
    "```\n",
    "- To structure your work, you're welcome to work directly in this Jupyter notebook, or you might like to start over with a new file!  You can see the list of files in the workspace by clicking on **_Jupyter_** in the top left corner of the notebook.\n",
    "- In this coding environment, you will not be able to watch the agents while they are training.  However, **_after training the agents_**, you can download the saved model weights to watch the agents on your own machine! "
   ]
  },
  {
   "cell_type": "code",
   "execution_count": 9,
   "metadata": {},
   "outputs": [],
   "source": [
    "# DDPG function\n",
    "\n",
    "def ddpg(n_episodes=500, max_t=1000, solved_score=30.0, consec_episodes=100, print_every=1, train_mode=True,\n",
    "         actor_path='actor_ckpt.pth', critic_path='critic_ckpt.pth'):\n",
    "    \"\"\"Deep Deterministic Policy Gradient (DDPG)\n",
    "    \n",
    "    Params\n",
    "    ======\n",
    "        n_episodes (int)      : maximum number of training episodes\n",
    "        max_t (int)           : maximum number of timesteps per episode\n",
    "        train_mode (bool)     : if 'True' set environment to training mode\n",
    "        solved_score (float)  : min avg score over consecutive episodes\n",
    "        consec_episodes (int) : number of consecutive episodes used to calculate score\n",
    "        print_every (int)     : interval to display results\n",
    "        actor_path (str)      : directory to store actor network weights\n",
    "        critic_path (str)     : directory to store critic network weights\n",
    "\n",
    "    \"\"\"\n",
    "    mean_scores = []                               # list of mean scores from each episode\n",
    "    min_scores = []                                # list of lowest scores from each episode\n",
    "    max_scores = []                                # list of highest scores from each episode\n",
    "    best_score = -np.inf\n",
    "    scores_window = deque(maxlen=consec_episodes)  # mean scores from most recent episodes\n",
    "    moving_avgs = []                               # list of moving averages\n",
    "    \n",
    "    for i_episode in range(1, n_episodes+1):\n",
    "        env_info = env.reset(train_mode=train_mode)[brain_name] # reset environment\n",
    "        states = env_info.vector_observations                   # get current state for each agent      \n",
    "        scores = np.zeros(num_agents)                           # initialize score for each agent\n",
    "        agent.reset()\n",
    "        start_time = time.time()\n",
    "        for t in range(max_t):\n",
    "            actions = agent.act(states, add_noise=True)         # select an action\n",
    "            env_info = env.step(actions)[brain_name]            # send actions to environment\n",
    "            next_states = env_info.vector_observations          # get next state\n",
    "            rewards = env_info.rewards                          # get reward\n",
    "            dones = env_info.local_done                         # see if episode has finished\n",
    "            # save experience to replay buffer, perform learning step at defined interval\n",
    "            for state, action, reward, next_state, done in zip(states, actions, rewards, next_states, dones):\n",
    "                agent.step(state, action, reward, next_state, done, t)             \n",
    "            states = next_states\n",
    "            scores += rewards        \n",
    "            if np.any(dones):                                   # exit loop when episode ends\n",
    "                break\n",
    "\n",
    "        duration = time.time() - start_time\n",
    "        min_scores.append(np.min(scores))             # save lowest score for a single agent\n",
    "        max_scores.append(np.max(scores))             # save highest score for a single agent        \n",
    "        mean_scores.append(np.mean(scores))           # save mean score for the episode\n",
    "        scores_window.append(mean_scores[-1])         # save mean score to window\n",
    "        moving_avgs.append(np.mean(scores_window))    # save moving average\n",
    "                \n",
    "        if i_episode % print_every == 0:\n",
    "            print('\\rEpisode {} ({} sec)  -- \\tMin: {:.1f}\\tMax: {:.1f}\\tMean: {:.1f}\\tMov. Avg: {:.1f}'.format(\\\n",
    "                  i_episode, round(duration), min_scores[-1], max_scores[-1], mean_scores[-1], moving_avgs[-1]))\n",
    "        \n",
    "        if train_mode and mean_scores[-1] > best_score:\n",
    "            torch.save(agent.actor_local.state_dict(), actor_path)\n",
    "            torch.save(agent.critic_local.state_dict(), critic_path)\n",
    "                  \n",
    "        if moving_avgs[-1] >= solved_score and i_episode >= consec_episodes:\n",
    "            print('\\nEnvironment SOLVED in {} episode\\tMoving Average ={:.1f} over last {} episodes'.format(\\\n",
    "                                    i_episode-consec_episodes, moving_avgs[-1], consec_episodes))            \n",
    "            if train_mode:\n",
    "                torch.save(agent.actor_local.state_dict(), actor_path)\n",
    "                torch.save(agent.critic_local.state_dict(), critic_path)  \n",
    "            break\n",
    "            \n",
    "    return mean_scores, moving_avgs\n"
   ]
  },
  {
   "cell_type": "code",
   "execution_count": 10,
   "metadata": {},
   "outputs": [
    {
     "name": "stdout",
     "output_type": "stream",
     "text": [
      "Episode 1 (119 sec)  -- \tMin: 0.1\tMax: 2.5\tMean: 0.7\tMov. Avg: 0.7\n",
      "Episode 2 (123 sec)  -- \tMin: 0.6\tMax: 3.1\tMean: 1.6\tMov. Avg: 1.1\n",
      "Episode 3 (121 sec)  -- \tMin: 0.5\tMax: 4.9\tMean: 2.2\tMov. Avg: 1.5\n",
      "Episode 4 (124 sec)  -- \tMin: 1.4\tMax: 6.1\tMean: 3.1\tMov. Avg: 1.9\n",
      "Episode 5 (122 sec)  -- \tMin: 1.3\tMax: 5.3\tMean: 3.6\tMov. Avg: 2.2\n",
      "Episode 6 (122 sec)  -- \tMin: 0.7\tMax: 4.3\tMean: 2.5\tMov. Avg: 2.3\n",
      "Episode 7 (123 sec)  -- \tMin: 1.1\tMax: 9.0\tMean: 3.9\tMov. Avg: 2.5\n",
      "Episode 8 (125 sec)  -- \tMin: 1.6\tMax: 5.8\tMean: 4.1\tMov. Avg: 2.7\n",
      "Episode 9 (125 sec)  -- \tMin: 3.3\tMax: 8.9\tMean: 5.4\tMov. Avg: 3.0\n",
      "Episode 10 (126 sec)  -- \tMin: 3.4\tMax: 11.7\tMean: 7.0\tMov. Avg: 3.4\n",
      "Episode 11 (127 sec)  -- \tMin: 5.8\tMax: 11.9\tMean: 8.6\tMov. Avg: 3.9\n",
      "Episode 12 (129 sec)  -- \tMin: 4.0\tMax: 14.9\tMean: 9.0\tMov. Avg: 4.3\n",
      "Episode 13 (129 sec)  -- \tMin: 6.4\tMax: 17.6\tMean: 10.6\tMov. Avg: 4.8\n",
      "Episode 14 (131 sec)  -- \tMin: 4.5\tMax: 16.3\tMean: 10.4\tMov. Avg: 5.2\n",
      "Episode 15 (133 sec)  -- \tMin: 6.3\tMax: 14.7\tMean: 11.0\tMov. Avg: 5.6\n",
      "Episode 16 (134 sec)  -- \tMin: 8.0\tMax: 16.7\tMean: 12.4\tMov. Avg: 6.0\n",
      "Episode 17 (137 sec)  -- \tMin: 7.6\tMax: 15.5\tMean: 12.0\tMov. Avg: 6.3\n",
      "Episode 18 (138 sec)  -- \tMin: 9.2\tMax: 19.0\tMean: 13.1\tMov. Avg: 6.7\n",
      "Episode 19 (139 sec)  -- \tMin: 6.9\tMax: 21.5\tMean: 13.4\tMov. Avg: 7.1\n",
      "Episode 20 (142 sec)  -- \tMin: 9.6\tMax: 25.3\tMean: 15.6\tMov. Avg: 7.5\n",
      "Episode 21 (144 sec)  -- \tMin: 11.5\tMax: 19.9\tMean: 16.1\tMov. Avg: 7.9\n",
      "Episode 22 (148 sec)  -- \tMin: 11.5\tMax: 24.0\tMean: 16.9\tMov. Avg: 8.3\n",
      "Episode 23 (150 sec)  -- \tMin: 13.2\tMax: 22.3\tMean: 17.5\tMov. Avg: 8.7\n",
      "Episode 24 (152 sec)  -- \tMin: 10.4\tMax: 21.8\tMean: 17.6\tMov. Avg: 9.1\n",
      "Episode 25 (154 sec)  -- \tMin: 11.5\tMax: 21.6\tMean: 17.7\tMov. Avg: 9.4\n",
      "Episode 26 (157 sec)  -- \tMin: 11.4\tMax: 20.8\tMean: 17.4\tMov. Avg: 9.7\n",
      "Episode 27 (160 sec)  -- \tMin: 14.7\tMax: 20.4\tMean: 18.4\tMov. Avg: 10.1\n",
      "Episode 28 (162 sec)  -- \tMin: 13.7\tMax: 22.5\tMean: 20.0\tMov. Avg: 10.4\n",
      "Episode 29 (165 sec)  -- \tMin: 15.6\tMax: 27.7\tMean: 20.7\tMov. Avg: 10.8\n",
      "Episode 30 (167 sec)  -- \tMin: 14.8\tMax: 25.6\tMean: 19.1\tMov. Avg: 11.0\n",
      "Episode 31 (169 sec)  -- \tMin: 11.9\tMax: 28.0\tMean: 21.1\tMov. Avg: 11.4\n",
      "Episode 32 (172 sec)  -- \tMin: 16.6\tMax: 27.6\tMean: 22.0\tMov. Avg: 11.7\n",
      "Episode 33 (177 sec)  -- \tMin: 18.6\tMax: 28.5\tMean: 22.5\tMov. Avg: 12.0\n",
      "Episode 34 (181 sec)  -- \tMin: 17.6\tMax: 28.0\tMean: 24.1\tMov. Avg: 12.4\n",
      "Episode 35 (181 sec)  -- \tMin: 21.6\tMax: 29.2\tMean: 25.7\tMov. Avg: 12.8\n",
      "Episode 36 (186 sec)  -- \tMin: 22.8\tMax: 31.6\tMean: 25.9\tMov. Avg: 13.1\n",
      "Episode 37 (186 sec)  -- \tMin: 21.6\tMax: 31.7\tMean: 26.1\tMov. Avg: 13.5\n",
      "Episode 38 (191 sec)  -- \tMin: 18.1\tMax: 32.6\tMean: 24.9\tMov. Avg: 13.8\n",
      "Episode 39 (193 sec)  -- \tMin: 19.4\tMax: 33.8\tMean: 26.3\tMov. Avg: 14.1\n",
      "Episode 40 (193 sec)  -- \tMin: 20.5\tMax: 33.9\tMean: 26.1\tMov. Avg: 14.4\n",
      "Episode 41 (197 sec)  -- \tMin: 13.7\tMax: 32.3\tMean: 26.7\tMov. Avg: 14.7\n",
      "Episode 42 (216 sec)  -- \tMin: 24.9\tMax: 33.1\tMean: 29.5\tMov. Avg: 15.1\n",
      "Episode 43 (204 sec)  -- \tMin: 23.0\tMax: 36.5\tMean: 29.0\tMov. Avg: 15.4\n",
      "Episode 44 (205 sec)  -- \tMin: 25.3\tMax: 38.3\tMean: 31.0\tMov. Avg: 15.7\n",
      "Episode 45 (207 sec)  -- \tMin: 24.2\tMax: 35.0\tMean: 29.4\tMov. Avg: 16.0\n",
      "Episode 46 (212 sec)  -- \tMin: 23.9\tMax: 39.0\tMean: 31.6\tMov. Avg: 16.4\n",
      "Episode 47 (210 sec)  -- \tMin: 24.8\tMax: 39.1\tMean: 31.0\tMov. Avg: 16.7\n",
      "Episode 48 (215 sec)  -- \tMin: 27.1\tMax: 33.6\tMean: 30.5\tMov. Avg: 17.0\n",
      "Episode 49 (235 sec)  -- \tMin: 27.5\tMax: 36.7\tMean: 33.4\tMov. Avg: 17.3\n",
      "Episode 50 (222 sec)  -- \tMin: 26.4\tMax: 38.4\tMean: 32.4\tMov. Avg: 17.6\n",
      "Episode 51 (220 sec)  -- \tMin: 27.4\tMax: 38.3\tMean: 33.6\tMov. Avg: 17.9\n",
      "Episode 52 (222 sec)  -- \tMin: 30.7\tMax: 37.7\tMean: 33.7\tMov. Avg: 18.2\n",
      "Episode 53 (237 sec)  -- \tMin: 28.2\tMax: 38.4\tMean: 34.8\tMov. Avg: 18.5\n",
      "Episode 54 (226 sec)  -- \tMin: 27.3\tMax: 38.3\tMean: 35.6\tMov. Avg: 18.9\n",
      "Episode 55 (222 sec)  -- \tMin: 32.0\tMax: 39.1\tMean: 35.8\tMov. Avg: 19.2\n",
      "Episode 56 (221 sec)  -- \tMin: 27.2\tMax: 38.0\tMean: 34.4\tMov. Avg: 19.4\n",
      "Episode 57 (224 sec)  -- \tMin: 30.1\tMax: 38.0\tMean: 35.7\tMov. Avg: 19.7\n",
      "Episode 58 (221 sec)  -- \tMin: 30.4\tMax: 39.4\tMean: 36.0\tMov. Avg: 20.0\n",
      "Episode 59 (224 sec)  -- \tMin: 32.7\tMax: 39.5\tMean: 37.3\tMov. Avg: 20.3\n",
      "Episode 60 (219 sec)  -- \tMin: 34.9\tMax: 39.5\tMean: 37.6\tMov. Avg: 20.6\n",
      "Episode 61 (224 sec)  -- \tMin: 35.9\tMax: 38.9\tMean: 37.8\tMov. Avg: 20.9\n",
      "Episode 62 (240 sec)  -- \tMin: 33.4\tMax: 39.6\tMean: 37.3\tMov. Avg: 21.1\n",
      "Episode 63 (224 sec)  -- \tMin: 33.6\tMax: 39.3\tMean: 37.4\tMov. Avg: 21.4\n",
      "Episode 64 (221 sec)  -- \tMin: 36.5\tMax: 39.6\tMean: 38.3\tMov. Avg: 21.7\n",
      "Episode 65 (224 sec)  -- \tMin: 36.2\tMax: 39.6\tMean: 38.2\tMov. Avg: 21.9\n",
      "Episode 66 (221 sec)  -- \tMin: 37.3\tMax: 39.6\tMean: 38.9\tMov. Avg: 22.2\n",
      "Episode 67 (223 sec)  -- \tMin: 36.2\tMax: 39.6\tMean: 38.6\tMov. Avg: 22.4\n",
      "Episode 68 (219 sec)  -- \tMin: 36.1\tMax: 39.7\tMean: 38.7\tMov. Avg: 22.7\n",
      "Episode 69 (221 sec)  -- \tMin: 37.8\tMax: 39.6\tMean: 39.1\tMov. Avg: 22.9\n",
      "Episode 70 (219 sec)  -- \tMin: 36.9\tMax: 39.6\tMean: 39.0\tMov. Avg: 23.1\n",
      "Episode 71 (219 sec)  -- \tMin: 37.5\tMax: 39.5\tMean: 39.0\tMov. Avg: 23.3\n",
      "Episode 72 (223 sec)  -- \tMin: 38.0\tMax: 39.6\tMean: 39.2\tMov. Avg: 23.6\n",
      "Episode 73 (227 sec)  -- \tMin: 36.5\tMax: 39.7\tMean: 39.1\tMov. Avg: 23.8\n",
      "Episode 74 (227 sec)  -- \tMin: 35.7\tMax: 39.6\tMean: 38.9\tMov. Avg: 24.0\n",
      "Episode 75 (227 sec)  -- \tMin: 37.9\tMax: 39.6\tMean: 39.3\tMov. Avg: 24.2\n",
      "Episode 76 (225 sec)  -- \tMin: 38.0\tMax: 39.6\tMean: 39.2\tMov. Avg: 24.4\n",
      "Episode 77 (226 sec)  -- \tMin: 35.9\tMax: 39.6\tMean: 38.9\tMov. Avg: 24.6\n",
      "Episode 78 (228 sec)  -- \tMin: 36.5\tMax: 39.6\tMean: 38.7\tMov. Avg: 24.8\n",
      "Episode 79 (226 sec)  -- \tMin: 36.6\tMax: 39.6\tMean: 38.4\tMov. Avg: 24.9\n",
      "Episode 80 (226 sec)  -- \tMin: 35.2\tMax: 39.6\tMean: 39.2\tMov. Avg: 25.1\n",
      "Episode 81 (227 sec)  -- \tMin: 37.8\tMax: 39.6\tMean: 39.2\tMov. Avg: 25.3\n",
      "Episode 82 (227 sec)  -- \tMin: 35.3\tMax: 39.6\tMean: 38.7\tMov. Avg: 25.4\n",
      "Episode 83 (227 sec)  -- \tMin: 36.8\tMax: 39.5\tMean: 38.6\tMov. Avg: 25.6\n",
      "Episode 84 (224 sec)  -- \tMin: 37.1\tMax: 39.6\tMean: 39.0\tMov. Avg: 25.8\n",
      "Episode 85 (226 sec)  -- \tMin: 37.6\tMax: 39.6\tMean: 39.0\tMov. Avg: 25.9\n",
      "Episode 86 (228 sec)  -- \tMin: 32.5\tMax: 39.7\tMean: 38.4\tMov. Avg: 26.1\n",
      "Episode 87 (222 sec)  -- \tMin: 36.9\tMax: 39.7\tMean: 38.8\tMov. Avg: 26.2\n",
      "Episode 88 (219 sec)  -- \tMin: 36.7\tMax: 39.6\tMean: 38.8\tMov. Avg: 26.4\n",
      "Episode 89 (223 sec)  -- \tMin: 37.4\tMax: 39.7\tMean: 38.8\tMov. Avg: 26.5\n",
      "Episode 90 (225 sec)  -- \tMin: 36.7\tMax: 39.6\tMean: 38.9\tMov. Avg: 26.6\n",
      "Episode 91 (225 sec)  -- \tMin: 32.8\tMax: 39.6\tMean: 37.4\tMov. Avg: 26.7\n",
      "Episode 92 (225 sec)  -- \tMin: 36.0\tMax: 39.6\tMean: 38.6\tMov. Avg: 26.9\n",
      "Episode 93 (226 sec)  -- \tMin: 37.1\tMax: 39.5\tMean: 38.7\tMov. Avg: 27.0\n",
      "Episode 94 (222 sec)  -- \tMin: 37.2\tMax: 39.6\tMean: 38.9\tMov. Avg: 27.1\n",
      "Episode 95 (224 sec)  -- \tMin: 37.4\tMax: 39.7\tMean: 39.1\tMov. Avg: 27.3\n",
      "Episode 96 (223 sec)  -- \tMin: 36.5\tMax: 39.5\tMean: 38.8\tMov. Avg: 27.4\n",
      "Episode 97 (224 sec)  -- \tMin: 32.0\tMax: 39.6\tMean: 37.9\tMov. Avg: 27.5\n",
      "Episode 98 (223 sec)  -- \tMin: 36.0\tMax: 39.2\tMean: 38.4\tMov. Avg: 27.6\n",
      "Episode 99 (224 sec)  -- \tMin: 34.3\tMax: 39.6\tMean: 38.5\tMov. Avg: 27.7\n",
      "Episode 100 (223 sec)  -- \tMin: 36.1\tMax: 39.6\tMean: 38.9\tMov. Avg: 27.8\n",
      "Episode 101 (223 sec)  -- \tMin: 36.7\tMax: 39.6\tMean: 38.7\tMov. Avg: 28.2\n",
      "Episode 102 (222 sec)  -- \tMin: 34.6\tMax: 39.7\tMean: 38.2\tMov. Avg: 28.6\n",
      "Episode 103 (224 sec)  -- \tMin: 35.1\tMax: 39.5\tMean: 38.0\tMov. Avg: 28.9\n",
      "Episode 104 (224 sec)  -- \tMin: 24.2\tMax: 39.5\tMean: 37.0\tMov. Avg: 29.3\n",
      "Episode 105 (225 sec)  -- \tMin: 37.1\tMax: 39.6\tMean: 39.1\tMov. Avg: 29.6\n",
      "Episode 106 (222 sec)  -- \tMin: 37.1\tMax: 39.5\tMean: 38.3\tMov. Avg: 30.0\n",
      "Episode 107 (220 sec)  -- \tMin: 32.5\tMax: 39.5\tMean: 38.0\tMov. Avg: 30.3\n",
      "\n",
      "Environment SOLVED in 7 episode\tMoving Average =30.3 over last 100 episodes\n"
     ]
    }
   ],
   "source": [
    "# run the training loop\n",
    "with active_session():\n",
    "    agent = Agent(state_size=state_size, action_size=action_size, random_seed=1)\n",
    "    scores, avgs = ddpg()"
   ]
  },
  {
   "cell_type": "code",
   "execution_count": 11,
   "metadata": {},
   "outputs": [
    {
     "data": {
      "image/png": "[encoded data removed]",
      "text/plain": [
       "<matplotlib.figure.Figure at 0x7f89d899eb00>"
      ]
     },
     "metadata": {
      "needs_background": "light"
     },
     "output_type": "display_data"
    }
   ],
   "source": [
    "# plot the scores\n",
    "fig = plt.figure()\n",
    "ax = fig.add_subplot(111)\n",
    "plt.plot(np.arange(len(scores)), scores, label='DDPG')\n",
    "plt.plot(np.arange(len(scores)), avgs, c='r', label='moving avg')\n",
    "plt.ylabel('Score')\n",
    "plt.xlabel('Episode #')\n",
    "plt.legend(loc='upper left');\n",
    "plt.show()\n"
   ]
  },
  {
   "cell_type": "code",
   "execution_count": 22,
   "metadata": {},
   "outputs": [],
   "source": [
    "env.close()"
   ]
  }
 ],
 "metadata": {
  "kernelspec": {
   "display_name": "Python 3",
   "language": "python",
   "name": "python3"
  },
  "language_info": {
   "codemirror_mode": {
    "name": "ipython",
    "version": 3
   },
   "file_extension": ".py",
   "mimetype": "text/x-python",
   "name": "python",
   "nbconvert_exporter": "python",
   "pygments_lexer": "ipython3",
   "version": "3.6.3"
  }
 },
 "nbformat": 4,
 "nbformat_minor": 2
}
